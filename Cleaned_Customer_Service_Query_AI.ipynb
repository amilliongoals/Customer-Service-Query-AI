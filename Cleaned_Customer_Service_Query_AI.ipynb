{
  "nbformat": 4,
  "nbformat_minor": 0,
  "metadata": {
    "colab": {
      "provenance": [],
      "mount_file_id": "1F1IHDfmBZ7mblX87TMgBsypICweD6wIf",
      "authorship_tag": "ABX9TyOS/Vj2aivwcuSb726YC8fX",
      "include_colab_link": true
    },
    "kernelspec": {
      "name": "python3",
      "display_name": "Python 3"
    },
    "language_info": {
      "name": "python"
    }
  },
  "cells": [
    {
      "cell_type": "markdown",
      "metadata": {
        "id": "view-in-github",
        "colab_type": "text"
      },
      "source": [
        "<a href=\"https://colab.research.google.com/github/amilliongoals/Customer-Service-Query-AI/blob/main/Cleaned_Customer_Service_Query_AI.ipynb\" target=\"_parent\"><img src=\"https://colab.research.google.com/assets/colab-badge.svg\" alt=\"Open In Colab\"/></a>"
      ]
    },
    {
      "cell_type": "code",
      "execution_count": 3,
      "metadata": {
        "id": "kQWhZUBDPkb0",
        "colab": {
          "base_uri": "https://localhost:8080/"
        },
        "outputId": "1399a4bc-5497-4e72-ea5f-2509309853ad"
      },
      "outputs": [
        {
          "output_type": "stream",
          "name": "stdout",
          "text": [
            "Collecting openai==0.28.1\n",
            "  Downloading openai-0.28.1-py3-none-any.whl (76 kB)\n",
            "\u001b[2K     \u001b[90m━━━━━━━━━━━━━━━━━━━━━━━━━━━━━━━━━━━━━━━━\u001b[0m \u001b[32m77.0/77.0 kB\u001b[0m \u001b[31m1.1 MB/s\u001b[0m eta \u001b[36m0:00:00\u001b[0m\n",
            "\u001b[?25hRequirement already satisfied: requests>=2.20 in /usr/local/lib/python3.10/dist-packages (from openai==0.28.1) (2.31.0)\n",
            "Requirement already satisfied: tqdm in /usr/local/lib/python3.10/dist-packages (from openai==0.28.1) (4.66.1)\n",
            "Requirement already satisfied: aiohttp in /usr/local/lib/python3.10/dist-packages (from openai==0.28.1) (3.9.1)\n",
            "Requirement already satisfied: charset-normalizer<4,>=2 in /usr/local/lib/python3.10/dist-packages (from requests>=2.20->openai==0.28.1) (3.3.2)\n",
            "Requirement already satisfied: idna<4,>=2.5 in /usr/local/lib/python3.10/dist-packages (from requests>=2.20->openai==0.28.1) (3.6)\n",
            "Requirement already satisfied: urllib3<3,>=1.21.1 in /usr/local/lib/python3.10/dist-packages (from requests>=2.20->openai==0.28.1) (2.0.7)\n",
            "Requirement already satisfied: certifi>=2017.4.17 in /usr/local/lib/python3.10/dist-packages (from requests>=2.20->openai==0.28.1) (2023.11.17)\n",
            "Requirement already satisfied: attrs>=17.3.0 in /usr/local/lib/python3.10/dist-packages (from aiohttp->openai==0.28.1) (23.1.0)\n",
            "Requirement already satisfied: multidict<7.0,>=4.5 in /usr/local/lib/python3.10/dist-packages (from aiohttp->openai==0.28.1) (6.0.4)\n",
            "Requirement already satisfied: yarl<2.0,>=1.0 in /usr/local/lib/python3.10/dist-packages (from aiohttp->openai==0.28.1) (1.9.4)\n",
            "Requirement already satisfied: frozenlist>=1.1.1 in /usr/local/lib/python3.10/dist-packages (from aiohttp->openai==0.28.1) (1.4.0)\n",
            "Requirement already satisfied: aiosignal>=1.1.2 in /usr/local/lib/python3.10/dist-packages (from aiohttp->openai==0.28.1) (1.3.1)\n",
            "Requirement already satisfied: async-timeout<5.0,>=4.0 in /usr/local/lib/python3.10/dist-packages (from aiohttp->openai==0.28.1) (4.0.3)\n",
            "Installing collected packages: openai\n",
            "\u001b[31mERROR: pip's dependency resolver does not currently take into account all the packages that are installed. This behaviour is the source of the following dependency conflicts.\n",
            "llmx 0.0.15a0 requires cohere, which is not installed.\n",
            "llmx 0.0.15a0 requires tiktoken, which is not installed.\u001b[0m\u001b[31m\n",
            "\u001b[0mSuccessfully installed openai-0.28.1\n",
            "Requirement already satisfied: scikit-learn in /usr/local/lib/python3.10/dist-packages (1.2.2)\n",
            "Requirement already satisfied: numpy>=1.17.3 in /usr/local/lib/python3.10/dist-packages (from scikit-learn) (1.23.5)\n",
            "Requirement already satisfied: scipy>=1.3.2 in /usr/local/lib/python3.10/dist-packages (from scikit-learn) (1.11.4)\n",
            "Requirement already satisfied: joblib>=1.1.1 in /usr/local/lib/python3.10/dist-packages (from scikit-learn) (1.3.2)\n",
            "Requirement already satisfied: threadpoolctl>=2.0.0 in /usr/local/lib/python3.10/dist-packages (from scikit-learn) (3.2.0)\n",
            "Collecting tiktoken\n",
            "  Downloading tiktoken-0.5.2-cp310-cp310-manylinux_2_17_x86_64.manylinux2014_x86_64.whl (2.0 MB)\n",
            "\u001b[2K     \u001b[90m━━━━━━━━━━━━━━━━━━━━━━━━━━━━━━━━━━━━━━━━\u001b[0m \u001b[32m2.0/2.0 MB\u001b[0m \u001b[31m18.1 MB/s\u001b[0m eta \u001b[36m0:00:00\u001b[0m\n",
            "\u001b[?25hRequirement already satisfied: regex>=2022.1.18 in /usr/local/lib/python3.10/dist-packages (from tiktoken) (2023.6.3)\n",
            "Requirement already satisfied: requests>=2.26.0 in /usr/local/lib/python3.10/dist-packages (from tiktoken) (2.31.0)\n",
            "Requirement already satisfied: charset-normalizer<4,>=2 in /usr/local/lib/python3.10/dist-packages (from requests>=2.26.0->tiktoken) (3.3.2)\n",
            "Requirement already satisfied: idna<4,>=2.5 in /usr/local/lib/python3.10/dist-packages (from requests>=2.26.0->tiktoken) (3.6)\n",
            "Requirement already satisfied: urllib3<3,>=1.21.1 in /usr/local/lib/python3.10/dist-packages (from requests>=2.26.0->tiktoken) (2.0.7)\n",
            "Requirement already satisfied: certifi>=2017.4.17 in /usr/local/lib/python3.10/dist-packages (from requests>=2.26.0->tiktoken) (2023.11.17)\n",
            "Installing collected packages: tiktoken\n",
            "\u001b[31mERROR: pip's dependency resolver does not currently take into account all the packages that are installed. This behaviour is the source of the following dependency conflicts.\n",
            "llmx 0.0.15a0 requires cohere, which is not installed.\u001b[0m\u001b[31m\n",
            "\u001b[0mSuccessfully installed tiktoken-0.5.2\n",
            "Collecting mwclient\n",
            "  Downloading mwclient-0.10.1-py2.py3-none-any.whl (27 kB)\n",
            "Requirement already satisfied: requests-oauthlib in /usr/local/lib/python3.10/dist-packages (from mwclient) (1.3.1)\n",
            "Requirement already satisfied: six in /usr/local/lib/python3.10/dist-packages (from mwclient) (1.16.0)\n",
            "Requirement already satisfied: oauthlib>=3.0.0 in /usr/local/lib/python3.10/dist-packages (from requests-oauthlib->mwclient) (3.2.2)\n",
            "Requirement already satisfied: requests>=2.0.0 in /usr/local/lib/python3.10/dist-packages (from requests-oauthlib->mwclient) (2.31.0)\n",
            "Requirement already satisfied: charset-normalizer<4,>=2 in /usr/local/lib/python3.10/dist-packages (from requests>=2.0.0->requests-oauthlib->mwclient) (3.3.2)\n",
            "Requirement already satisfied: idna<4,>=2.5 in /usr/local/lib/python3.10/dist-packages (from requests>=2.0.0->requests-oauthlib->mwclient) (3.6)\n",
            "Requirement already satisfied: urllib3<3,>=1.21.1 in /usr/local/lib/python3.10/dist-packages (from requests>=2.0.0->requests-oauthlib->mwclient) (2.0.7)\n",
            "Requirement already satisfied: certifi>=2017.4.17 in /usr/local/lib/python3.10/dist-packages (from requests>=2.0.0->requests-oauthlib->mwclient) (2023.11.17)\n",
            "Installing collected packages: mwclient\n",
            "Successfully installed mwclient-0.10.1\n",
            "Collecting mwparserfromhell\n",
            "  Downloading mwparserfromhell-0.6.5-cp310-cp310-manylinux_2_17_x86_64.manylinux2014_x86_64.whl (191 kB)\n",
            "\u001b[2K     \u001b[90m━━━━━━━━━━━━━━━━━━━━━━━━━━━━━━━━━━━━━━━━\u001b[0m \u001b[32m191.0/191.0 kB\u001b[0m \u001b[31m3.5 MB/s\u001b[0m eta \u001b[36m0:00:00\u001b[0m\n",
            "\u001b[?25hInstalling collected packages: mwparserfromhell\n",
            "Successfully installed mwparserfromhell-0.6.5\n",
            "Collecting utils\n",
            "  Downloading utils-1.0.1-py2.py3-none-any.whl (21 kB)\n",
            "Installing collected packages: utils\n",
            "Successfully installed utils-1.0.1\n"
          ]
        }
      ],
      "source": [
        "!pip install openai==0.28.1\n",
        "!pip install scikit-learn\n",
        "!pip install tiktoken\n",
        "!pip install mwclient\n",
        "!pip install mwparserfromhell\n",
        "!pip install utils\n"
      ]
    },
    {
      "cell_type": "code",
      "source": [
        "import os\n",
        "import pandas as pd\n",
        "import openai\n",
        "import numpy as np\n",
        "from ast import literal_eval\n",
        "import matplotlib.pyplot as plt\n",
        "import urllib\n",
        "import re\n",
        "import tiktoken\n",
        "import mwclient\n",
        "import mwparserfromhell\n",
        "import re\n",
        "import tiktoken\n",
        "import textwrap as tr\n",
        "from typing import List, Optional\n",
        "import plotly.express as px\n",
        "from scipy import spatial\n",
        "from sklearn.decomposition import PCA\n",
        "from sklearn.manifold import TSNE\n",
        "from sklearn.metrics import average_precision_score, precision_recall_curve\n",
        "from tenacity import retry, stop_after_attempt, wait_random_exponential\n",
        "from google.colab import userdata\n",
        "\n",
        "key = userdata.get('OPENAI_API_KEY')\n",
        "secret_value_0 = userdata.get('OPENAI_API_KEY')\n",
        "encoding= tiktoken.get_encoding(\"cl100k_base\")\n",
        "EMBEDDING_MODEL = \"text-embedding-ada-002\"\n",
        "GPT_MODEL = \"gpt-3.5-turbo\"\n",
        "embedding_model = \"text-embedding-ada-002\"\n",
        "embedding_encoding = \"cl100k_base\"\n",
        "max_tokens = 8000\n"
      ],
      "metadata": {
        "id": "Ci89_eyDP2yp"
      },
      "execution_count": 4,
      "outputs": []
    },
    {
      "cell_type": "code",
      "source": [
        "data0= 'https://raw.githubusercontent.com/amilliongoals/Customer-Service-Query-AI/main/data/3rdpartyreturn.md'\n",
        "data1 = 'https://raw.githubusercontent.com/amilliongoals/Customer-Service-Query-AI/main/data/Return%20Policy.md'\n",
        "data2 = 'https://raw.githubusercontent.com/amilliongoals/Customer-Service-Query-AI/main/data/amzstylerturn.md'\n",
        "data3 = 'https://raw.githubusercontent.com/amilliongoals/Customer-Service-Query-AI/main/data/fashion%20returns.md'\n",
        "data4 = 'https://raw.githubusercontent.com/amilliongoals/Customer-Service-Query-AI/main/data/gift%20return%20w%20reciept.md'\n",
        "data5 = 'https://raw.githubusercontent.com/amilliongoals/Customer-Service-Query-AI/main/data/gift%20return.md'\n",
        "data6 ='https://raw.githubusercontent.com/amilliongoals/Customer-Service-Query-AI/main/data/globalreturn.md'\n",
        "data7 = 'https://raw.githubusercontent.com/amilliongoals/Customer-Service-Query-AI/main/data/hub%20return.md'\n",
        "data8 = 'https://raw.githubusercontent.com/amilliongoals/Customer-Service-Query-AI/main/data/internatonal%20returns.md'\n",
        "data9 = 'https://raw.githubusercontent.com/amilliongoals/Customer-Service-Query-AI/main/data/mistakenreturns.md'\n",
        "data10 = 'https://raw.githubusercontent.com/amilliongoals/Customer-Service-Query-AI/main/data/nonrefundable%20items.md'\n",
        "data11 = 'https://raw.githubusercontent.com/amilliongoals/Customer-Service-Query-AI/main/data/return%20costs.md'\n",
        "data12 = 'https://raw.githubusercontent.com/amilliongoals/Customer-Service-Query-AI/main/data/returncancel.md'\n",
        "\n",
        "dataset = [data0,data1,data2,data3,data4,data5,data6,data7,data8,data9,data10,data11,data12]\n",
        "textfile=[0]*len(dataset)\n",
        "\n",
        "i=0\n",
        "while i<len(dataset):\n",
        "   textfile[i]=urllib.request.urlopen(dataset[i]).read()\n",
        "   i=i+1\n",
        "text_df=pd.DataFrame(textfile)\n",
        "text_df\n",
        "\n",
        "\n",
        "df= pd.DataFrame({\"web-url\":dataset, \"text\":textfile})\n",
        "\n",
        "df['web-url'] = df['web-url'].str.replace('https://raw.githubusercontent.com/amilliongoals/Customer-Service-Query-AI/main/data/',\"\").str.replace('.md',\"\")\n",
        "\n",
        "df['text']=df['text'].str.decode('utf-8')"
      ],
      "metadata": {
        "id": "sFrM3tUJZUaa",
        "colab": {
          "base_uri": "https://localhost:8080/"
        },
        "outputId": "941fe1ec-eeac-4d49-df3f-441cebc0b082"
      },
      "execution_count": 5,
      "outputs": [
        {
          "output_type": "stream",
          "name": "stderr",
          "text": [
            "/usr/local/lib/python3.10/dist-packages/ipykernel/ipkernel.py:283: DeprecationWarning: `should_run_async` will not call `transform_cell` automatically in the future. Please pass the result to `transformed_cell` argument and any exception that happen during thetransform in `preprocessing_exc_tuple` in IPython 7.17 and above.\n",
            "  and should_run_async(code)\n",
            "<ipython-input-5-ccec6d1db099>:28: FutureWarning: The default value of regex will change from True to False in a future version.\n",
            "  df['web-url'] = df['web-url'].str.replace('https://raw.githubusercontent.com/amilliongoals/Customer-Service-Query-AI/main/data/',\"\").str.replace('.md',\"\")\n"
          ]
        }
      ]
    },
    {
      "cell_type": "code",
      "source": [
        "def clean_text(text):\n",
        "  text = text.lower()\n",
        "  text = text.replace(\"\\n\", \" \")\n",
        "  text = text.replace(\"-\", \"\")\n",
        "  text = text.replace(\"  \", \" \")\n",
        "  text = text.replace(\"   \",\" \")\n",
        "  text = text.replace(\"*\", \"\")\n",
        "  text = text.replace(\"\\\\\", \"\")\n",
        "  text = text.replace(\".com\", \"\")\n",
        "  text=  re.sub(r'http\\S+', '', text)\n",
        "  return text\n",
        "\n",
        "df['text']=df['text'].apply(clean_text)\n"
      ],
      "metadata": {
        "colab": {
          "base_uri": "https://localhost:8080/"
        },
        "id": "SXmSc-v2JJiG",
        "outputId": "aeb8f208-f4cf-4017-8826-145ea491b7ad"
      },
      "execution_count": 6,
      "outputs": [
        {
          "output_type": "stream",
          "name": "stderr",
          "text": [
            "/usr/local/lib/python3.10/dist-packages/ipykernel/ipkernel.py:283: DeprecationWarning: `should_run_async` will not call `transform_cell` automatically in the future. Please pass the result to `transformed_cell` argument and any exception that happen during thetransform in `preprocessing_exc_tuple` in IPython 7.17 and above.\n",
            "  and should_run_async(code)\n"
          ]
        }
      ]
    },
    {
      "cell_type": "code",
      "source": [
        "df['Token_n']=df.text.apply(lambda x: len(encoding.encode(x)))\n",
        "print(df)\n",
        "token_sum = df['Token_n'].sum()\n",
        "percent_util = df['Token_n'].sum() /8000 *100\n",
        "print(\"\\n\\n\",token_sum, 'out of 8000 tokens', percent_util,'% of tokens used')\n",
        "if percent_util > 100:\n",
        "  print(\"\\nTry cleaning data more, if unable will handle in chunking :)\")\n",
        "else:\n",
        "  print(\"\\nTokens is within range\")"
      ],
      "metadata": {
        "colab": {
          "base_uri": "https://localhost:8080/"
        },
        "id": "i1MxKsId_1BR",
        "outputId": "af8e3203-df87-46a6-bd8c-7ae9c0a1fa04"
      },
      "execution_count": 7,
      "outputs": [
        {
          "output_type": "stream",
          "name": "stdout",
          "text": [
            "                        web-url  \\\n",
            "0                3rdpartyreturn   \n",
            "1               Return%20Policy   \n",
            "2                 amzstylerturn   \n",
            "3             fashion%20returns   \n",
            "4   gift%20return%20w%20reciept   \n",
            "5                 gift%20return   \n",
            "6                  globalreturn   \n",
            "7                  hub%20return   \n",
            "8        internatonal%20returns   \n",
            "9               mistakenreturns   \n",
            "10        nonrefundable%20items   \n",
            "11               return%20costs   \n",
            "12                 returncancel   \n",
            "\n",
            "                                                 text  Token_n  \n",
            "0   # returns to thirdparty sellers amazon custome...      436  \n",
            "1   # about our returns policies amazon customer s...     3615  \n",
            "2   # returning an amazon style purchase amazon cu...      400  \n",
            "3   # free returns on fashion items amazon custome...      926  \n",
            "4   # return a gift using a gift receipt amazon cu...       79  \n",
            "5   # return a gift amazon customer service the re...      438  \n",
            "6   # amazon global store returns amazon customer ...      243  \n",
            "7   # return an item at an amazon hub counter amaz...      298  \n",
            "8   # international returns amazon customer servic...      486  \n",
            "9   # about mistaken returns to amazon amazon cust...      138  \n",
            "10  # items that you can't return amazon customer ...      227  \n",
            "11  # return shipping amazon customer service you ...      222  \n",
            "12  # cancel a return amazon customer service if y...      146  \n",
            "\n",
            "\n",
            " 7654 out of 8000 tokens 95.675 % of tokens used\n",
            "\n",
            "Tokens is within range\n"
          ]
        },
        {
          "output_type": "stream",
          "name": "stderr",
          "text": [
            "/usr/local/lib/python3.10/dist-packages/ipykernel/ipkernel.py:283: DeprecationWarning: `should_run_async` will not call `transform_cell` automatically in the future. Please pass the result to `transformed_cell` argument and any exception that happen during thetransform in `preprocessing_exc_tuple` in IPython 7.17 and above.\n",
            "  and should_run_async(code)\n"
          ]
        }
      ]
    },
    {
      "cell_type": "code",
      "source": [
        "def string_splitter_5000(text:str, max_tokens:int):\n",
        "  sentences= text.split(\". \")\n",
        "  chunks= []\n",
        "  chunk=\"\"\n",
        "  n_chunk_tokens= 0\n",
        "  for sentence in sentences:\n",
        "        n_sentence_tokens = len(encoding.encode(\" \"+ sentence))\n",
        "        if n_sentence_tokens > max_tokens:\n",
        "          print(\"bad sentence:\", n_sentence_tokens, \"\\n\", sentence)\n",
        "\n",
        "        if n_sentence_tokens + n_chunk_tokens > max_tokens:\n",
        "          chunks.append(chunk)\n",
        "          chunk=\"\"\n",
        "          n_chunk_tokens = 0\n",
        "\n",
        "        chunk +=\" \" + sentence\n",
        "        n_chunk_tokens=len(encoding.encode(chunk))\n",
        "  if chunk:\n",
        "    chunks.append(chunk)\n",
        "  return chunks"
      ],
      "metadata": {
        "id": "s_-488vPGahM",
        "colab": {
          "base_uri": "https://localhost:8080/"
        },
        "outputId": "796b81ed-3297-4a6c-8ad6-5ae2a9e94ff8"
      },
      "execution_count": 8,
      "outputs": [
        {
          "output_type": "stream",
          "name": "stderr",
          "text": [
            "/usr/local/lib/python3.10/dist-packages/ipykernel/ipkernel.py:283: DeprecationWarning: `should_run_async` will not call `transform_cell` automatically in the future. Please pass the result to `transformed_cell` argument and any exception that happen during thetransform in `preprocessing_exc_tuple` in IPython 7.17 and above.\n",
            "  and should_run_async(code)\n"
          ]
        }
      ]
    },
    {
      "cell_type": "code",
      "source": [
        "embedding_texts=[]\n",
        "MAX_TOKENS = 600\n",
        "for idx, row in df.iterrows():\n",
        "  if row.Token_n > MAX_TOKENS:\n",
        "    splitted_string = string_splitter_5000(row.text, max_tokens= MAX_TOKENS )\n",
        "\n",
        "    for t in splitted_string:\n",
        "        embedding_texts.append(t)\n",
        "  else:\n",
        "        embedding_texts.append(row.text)"
      ],
      "metadata": {
        "colab": {
          "base_uri": "https://localhost:8080/"
        },
        "id": "LM7fUXr7V7W3",
        "outputId": "8c259ffb-9190-4534-89f5-586564e02801"
      },
      "execution_count": 9,
      "outputs": [
        {
          "output_type": "stream",
          "name": "stderr",
          "text": [
            "/usr/local/lib/python3.10/dist-packages/ipykernel/ipkernel.py:283: DeprecationWarning: `should_run_async` will not call `transform_cell` automatically in the future. Please pass the result to `transformed_cell` argument and any exception that happen during thetransform in `preprocessing_exc_tuple` in IPython 7.17 and above.\n",
            "  and should_run_async(code)\n"
          ]
        }
      ]
    },
    {
      "cell_type": "code",
      "source": [
        "import matplotlib.pyplot as plt\n",
        "\n",
        "fig, ax = plt.subplots()\n",
        "ax.barh(range(len(embedding_texts)), [len(encoding.encode(t)) for t in embedding_texts])\n",
        "ax.set_title(\"Number of tokens for each split\")\n",
        "ax.set_xlabel(\"Number of tokens\")\n",
        "ax.set_ylabel(\"Splits from embedding_texts\")\n",
        "ax.set_ylim(0, 19)\n",
        "plt.show()"
      ],
      "metadata": {
        "colab": {
          "base_uri": "https://localhost:8080/",
          "height": 527
        },
        "id": "M_7HWnNojX4_",
        "outputId": "119cf0f7-b59f-4281-acf4-518a2205f5bc"
      },
      "execution_count": 10,
      "outputs": [
        {
          "output_type": "stream",
          "name": "stderr",
          "text": [
            "/usr/local/lib/python3.10/dist-packages/ipykernel/ipkernel.py:283: DeprecationWarning: `should_run_async` will not call `transform_cell` automatically in the future. Please pass the result to `transformed_cell` argument and any exception that happen during thetransform in `preprocessing_exc_tuple` in IPython 7.17 and above.\n",
            "  and should_run_async(code)\n"
          ]
        },
        {
          "output_type": "display_data",
          "data": {
            "text/plain": [
              "<Figure size 640x480 with 1 Axes>"
            ],
            "image/png": "[encoded data removed]"
          },
          "metadata": {}
        }
      ]
    },
    {
      "cell_type": "code",
      "source": [
        "def get_embedding(text: str, engine=\"text-similarity-davinci-001\", **kwargs) -> List[float]:\n",
        "    text = text.replace(\"\\n\", \" \")\n",
        "    return openai.Embedding.create(input=[text], engine=engine, **kwargs)[\"data\"][0][\"embedding\"]"
      ],
      "metadata": {
        "colab": {
          "base_uri": "https://localhost:8080/"
        },
        "id": "cWDwSBZPWPK9",
        "outputId": "dc948d15-71c6-4162-aa6f-39094f7636d2"
      },
      "execution_count": 11,
      "outputs": [
        {
          "output_type": "stream",
          "name": "stderr",
          "text": [
            "/usr/local/lib/python3.10/dist-packages/ipykernel/ipkernel.py:283: DeprecationWarning: `should_run_async` will not call `transform_cell` automatically in the future. Please pass the result to `transformed_cell` argument and any exception that happen during thetransform in `preprocessing_exc_tuple` in IPython 7.17 and above.\n",
            "  and should_run_async(code)\n"
          ]
        }
      ]
    },
    {
      "cell_type": "code",
      "source": [
        "openai.api_key = key\n",
        "df[\"embedding\"] = df.text.apply(lambda x: get_embedding(x, engine=embedding_model))\n",
        "\n",
        "df=df[['text', 'embedding','Token_n']].copy()"
      ],
      "metadata": {
        "colab": {
          "base_uri": "https://localhost:8080/"
        },
        "id": "dMjtqa8khSxD",
        "outputId": "473f110d-bc3f-41b0-c3a4-1e8782c7272d"
      },
      "execution_count": 12,
      "outputs": [
        {
          "output_type": "stream",
          "name": "stderr",
          "text": [
            "/usr/local/lib/python3.10/dist-packages/ipykernel/ipkernel.py:283: DeprecationWarning: `should_run_async` will not call `transform_cell` automatically in the future. Please pass the result to `transformed_cell` argument and any exception that happen during thetransform in `preprocessing_exc_tuple` in IPython 7.17 and above.\n",
            "  and should_run_async(code)\n"
          ]
        }
      ]
    },
    {
      "cell_type": "code",
      "source": [
        "#manual port of distances_from_embedding\n",
        "def distances_from_embeddings(\n",
        "    query_embedding: List[float],\n",
        "    embeddings: List[List[float]],\n",
        "    distance_metric=\"cosine\",\n",
        ") -> List[List]:\n",
        "    \"\"\"Return the distances between a query embedding and a list of embeddings.\"\"\"\n",
        "    distance_metrics = {\n",
        "        \"cosine\": spatial.distance.cosine,\n",
        "        \"L1\": spatial.distance.cityblock,\n",
        "        \"L2\": spatial.distance.euclidean,\n",
        "        \"Linf\": spatial.distance.chebyshev,\n",
        "    }\n",
        "    distances = [\n",
        "        distance_metrics[distance_metric](query_embedding, embedding)\n",
        "        for embedding in embeddings\n",
        "    ]\n",
        "    return distances\n",
        "\n",
        "def create_context(\n",
        "    question, df, max_len=1800, size=\"ada\"\n",
        "):\n",
        "    \"\"\"\n",
        "    Create a context for a question by finding the most similar context from the dataframe\n",
        "    \"\"\"\n",
        "\n",
        "    # Get the embeddings for the question\n",
        "    q_embeddings = openai.Embedding.create(input=question, engine='text-embedding-ada-002')['data'][0]['embedding']\n",
        "\n",
        "    # Get the distances from the embeddings\n",
        "    df['distances'] = distances_from_embeddings(q_embeddings, df['embedding'].values, distance_metric='cosine')\n",
        "    #df['distances'] = distances_from_embeddings(q_embeddings, df['text'].values, distance_metric='cosine')\n",
        "\n",
        "    returns = []\n",
        "    cur_len = 0\n",
        "\n",
        "    # Sort by distance and add the text to the context until the context is too long\n",
        "    for i, row in df.sort_values('distances', ascending=True).iterrows():\n",
        "\n",
        "        # Add the length of the text to the current length\n",
        "        cur_len += row['Token_n'] + 4\n",
        "\n",
        "        # If the context is too long, break\n",
        "        if cur_len > max_len:\n",
        "            break\n",
        "\n",
        "        # Else add it to the text that is being returned\n",
        "        returns.append(row[\"text\"])\n",
        "\n",
        "    # Return the context\n",
        "    return \"\\n\\n###\\n\\n\".join(returns)\n",
        "\n",
        "def answer_question(df,\n",
        "    model=\"text-davinci-003\",\n",
        "    question=\"Am I allowed to publish model outputs to Twitter, without a human review?\",\n",
        "    max_len=1800,\n",
        "    size=\"ada\",\n",
        "    debug=False,\n",
        "    max_tokens=150,\n",
        "    stop_sequence=None\n",
        "):\n",
        "    \"\"\"\n",
        "    Answer a question based on the most similar context from the dataframe texts\n",
        "    \"\"\"\n",
        "    context = create_context(\n",
        "        question,\n",
        "        df,\n",
        "        max_len=max_len,\n",
        "        size=size,\n",
        "    )\n",
        "    # If debug, print the raw model response\n",
        "    if debug:\n",
        "        print(\"Context:\\n\" + context)\n",
        "        print(\"\\n\\n\")\n",
        "\n",
        "    try:\n",
        "        # Create a completions using the question and context\n",
        "        response = openai.Completion.create(\n",
        "            prompt=f\"Answer the question based on the context below as a amazon customer returns represantatitive if you are low confidence, say \\\"I don't know\\\"\\n\\nContext: {context}\\n\\n---\\n\\nQuestion: {question}\\nAnswer:\",\n",
        "            temperature=0,\n",
        "            max_tokens=max_tokens,\n",
        "            top_p=1,\n",
        "            frequency_penalty=0,\n",
        "            presence_penalty=0,\n",
        "            stop=stop_sequence,\n",
        "            model=model,\n",
        "        )\n",
        "        return response[\"choices\"][0][\"text\"].strip()\n",
        "    except Exception as e:\n",
        "        print(e)\n",
        "        return \"\""
      ],
      "metadata": {
        "colab": {
          "base_uri": "https://localhost:8080/"
        },
        "id": "MU-cA7tuilO1",
        "outputId": "34fd844e-ab18-439a-c4e8-ee14ed4d8751"
      },
      "execution_count": 13,
      "outputs": [
        {
          "output_type": "stream",
          "name": "stderr",
          "text": [
            "/usr/local/lib/python3.10/dist-packages/ipykernel/ipkernel.py:283: DeprecationWarning: `should_run_async` will not call `transform_cell` automatically in the future. Please pass the result to `transformed_cell` argument and any exception that happen during thetransform in `preprocessing_exc_tuple` in IPython 7.17 and above.\n",
            "  and should_run_async(code)\n"
          ]
        }
      ]
    },
    {
      "cell_type": "code",
      "source": [
        "answer_question(df, model=\"gpt-3.5-turbo-instruct\", question=\"what is the return policy for fashion clothes?\")"
      ],
      "metadata": {
        "colab": {
          "base_uri": "https://localhost:8080/",
          "height": 90
        },
        "id": "esAH9n7UDuPp",
        "outputId": "9fdedad2-8c2f-4956-f323-f4700217d40b"
      },
      "execution_count": 14,
      "outputs": [
        {
          "output_type": "stream",
          "name": "stderr",
          "text": [
            "/usr/local/lib/python3.10/dist-packages/ipykernel/ipkernel.py:283: DeprecationWarning: `should_run_async` will not call `transform_cell` automatically in the future. Please pass the result to `transformed_cell` argument and any exception that happen during thetransform in `preprocessing_exc_tuple` in IPython 7.17 and above.\n",
            "  and should_run_async(code)\n"
          ]
        },
        {
          "output_type": "execute_result",
          "data": {
            "text/plain": [
              "'You can return most items purchased at an Amazon Style store for a full refund within 30 days of purchase. For more information on return options for Amazon purchases, please use our online return center.'"
            ],
            "application/vnd.google.colaboratory.intrinsic+json": {
              "type": "string"
            }
          },
          "metadata": {},
          "execution_count": 14
        }
      ]
    },
    {
      "cell_type": "code",
      "source": [
        "answer_question(df, model=\"gpt-3.5-turbo-instruct\", question=\"What is the policy to return furniture?\")"
      ],
      "metadata": {
        "colab": {
          "base_uri": "https://localhost:8080/",
          "height": 90
        },
        "id": "jC-ft9rWT2tf",
        "outputId": "0b7c3d60-d35f-4f8f-90a9-eaf5563ad3b9"
      },
      "execution_count": 15,
      "outputs": [
        {
          "output_type": "stream",
          "name": "stderr",
          "text": [
            "/usr/local/lib/python3.10/dist-packages/ipykernel/ipkernel.py:283: DeprecationWarning: `should_run_async` will not call `transform_cell` automatically in the future. Please pass the result to `transformed_cell` argument and any exception that happen during thetransform in `preprocessing_exc_tuple` in IPython 7.17 and above.\n",
            "  and should_run_async(code)\n"
          ]
        },
        {
          "output_type": "execute_result",
          "data": {
            "text/plain": [
              "\"I don't know.\""
            ],
            "application/vnd.google.colaboratory.intrinsic+json": {
              "type": "string"
            }
          },
          "metadata": {},
          "execution_count": 15
        }
      ]
    },
    {
      "cell_type": "code",
      "source": [
        "answer_question(df, model=\"gpt-3.5-turbo-instruct\", question=\"What should I do if I want to return an Item?\")"
      ],
      "metadata": {
        "colab": {
          "base_uri": "https://localhost:8080/",
          "height": 107
        },
        "id": "Wjk_x2WgT27T",
        "outputId": "5bc0109c-69b3-416d-8f70-1fa058989700"
      },
      "execution_count": 16,
      "outputs": [
        {
          "output_type": "stream",
          "name": "stderr",
          "text": [
            "/usr/local/lib/python3.10/dist-packages/ipykernel/ipkernel.py:283: DeprecationWarning: `should_run_async` will not call `transform_cell` automatically in the future. Please pass the result to `transformed_cell` argument and any exception that happen during thetransform in `preprocessing_exc_tuple` in IPython 7.17 and above.\n",
            "  and should_run_async(code)\n"
          ]
        },
        {
          "output_type": "execute_result",
          "data": {
            "text/plain": [
              "'To return an item, go to \"Your Orders\" and find the requested return. Then, choose \"Return and Refund Status\" next to the return authorization and select \"Cancel This Return.\" If you requested a pickup for your return, you can ignore the pickup attempts or contact the carrier to cancel the pickup.'"
            ],
            "application/vnd.google.colaboratory.intrinsic+json": {
              "type": "string"
            }
          },
          "metadata": {},
          "execution_count": 16
        }
      ]
    }
  ]
}